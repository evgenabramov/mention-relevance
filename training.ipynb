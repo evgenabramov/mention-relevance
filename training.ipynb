{
 "cells": [
  {
   "cell_type": "code",
   "execution_count": 83,
   "id": "c8af0bbb",
   "metadata": {
    "ExecuteTime": {
     "end_time": "2022-12-11T17:52:14.636274Z",
     "start_time": "2022-12-11T17:52:14.624458Z"
    },
    "cellId": "dunmdaeygz7xn38wqn0teq"
   },
   "outputs": [],
   "source": [
    "import numpy as np\n",
    "import pandas as pd\n",
    "import torch\n",
    "import time\n",
    "import datetime\n",
    "\n",
    "\n",
    "def format_time(elapsed):\n",
    "    '''\n",
    "    Takes a time in seconds and returns a string hh:mm:ss\n",
    "    '''\n",
    "    # Round to the nearest second.\n",
    "    elapsed_rounded = int(round((elapsed)))\n",
    "    \n",
    "    # Format as hh:mm:ss\n",
    "    return str(datetime.timedelta(seconds=elapsed_rounded))\n",
    "\n",
    "\n",
    "from transformers import AutoTokenizer, BertForSequenceClassification, \\\n",
    "    AutoModelForSequenceClassification, get_linear_schedule_with_warmup\n",
    "from torch.utils.data import DataLoader, TensorDataset, random_split\n",
    "from torch.optim import AdamW\n",
    "from tqdm.auto import tqdm\n",
    "from sklearn.metrics import roc_auc_score\n",
    "from scipy.special import softmax"
   ]
  },
  {
   "cell_type": "code",
   "execution_count": 84,
   "id": "f6b5eddd",
   "metadata": {
    "ExecuteTime": {
     "end_time": "2022-12-11T17:52:16.668287Z",
     "start_time": "2022-12-11T17:52:14.902228Z"
    },
    "cellId": "uzvksbyv76qxoyu6c6zwa",
    "scrolled": true
   },
   "outputs": [],
   "source": [
    "tokenizer = AutoTokenizer.from_pretrained(\"bert-base-multilingual-cased\")"
   ]
  },
  {
   "cell_type": "markdown",
   "id": "05284832",
   "metadata": {
    "cellId": "433tnz7by9d5pezfl8ywcm",
    "execution_id": "28db18c9-1fd5-439e-bd2a-36c8bdffd4fe"
   },
   "source": [
    "Когда мы решаем задачу на двух предложениях, нужно посередине вставлять токен [SEP], это можно сделать так:"
   ]
  },
  {
   "cell_type": "code",
   "execution_count": 85,
   "id": "1397b03a",
   "metadata": {
    "ExecuteTime": {
     "end_time": "2022-12-11T17:52:16.672499Z",
     "start_time": "2022-12-11T17:52:16.669494Z"
    },
    "cellId": "j4ga2i2v8eecnx9882kvgw"
   },
   "outputs": [
    {
     "data": {
      "text/plain": [
       "'[CLS] This is some text [SEP] this is another text [SEP] [PAD] [PAD] [PAD] [PAD] [PAD] [PAD] [PAD] ['"
      ]
     },
     "execution_count": 85,
     "metadata": {},
     "output_type": "execute_result"
    }
   ],
   "source": [
    "encoding = tokenizer(\"This is some text\", \"this is another text\", padding=\"max_length\", truncation=True)\n",
    "tokenizer.decode(encoding[\"input_ids\"])[:100]"
   ]
  },
  {
   "cell_type": "markdown",
   "id": "86199368",
   "metadata": {
    "ExecuteTime": {
     "end_time": "2022-11-11T14:07:48.184006Z",
     "start_time": "2022-11-11T14:07:48.177616Z"
    },
    "cellId": "4d66ht1cglaqk1n2o51viq",
    "execution_id": "12e302a2-3e60-4956-bd8c-0b4a580c8e4b"
   },
   "source": [
    "Ниже нужно прочитать настоящие размеченные данные:"
   ]
  },
  {
   "cell_type": "code",
   "execution_count": 86,
   "id": "8c17b86a",
   "metadata": {
    "ExecuteTime": {
     "end_time": "2022-12-11T17:52:18.226597Z",
     "start_time": "2022-12-11T17:52:18.168965Z"
    }
   },
   "outputs": [],
   "source": [
    "markup_english = pd.read_csv(\"new_results_english.tsv\", sep=\"\\t\")\n",
    "markup_spanish = pd.read_csv(\"new_results_spanish.tsv\", sep=\"\\t\")\n",
    "markup_portuguese = pd.read_csv(\"results_portuguese.tsv\", sep=\"\\t\")"
   ]
  },
  {
   "cell_type": "code",
   "execution_count": 87,
   "id": "f668c1ee",
   "metadata": {
    "ExecuteTime": {
     "end_time": "2022-12-11T17:52:18.562201Z",
     "start_time": "2022-12-11T17:52:18.550630Z"
    }
   },
   "outputs": [
    {
     "data": {
      "text/plain": [
       "(3090, 8)"
      ]
     },
     "execution_count": 87,
     "metadata": {},
     "output_type": "execute_result"
    }
   ],
   "source": [
    "markup = pd.concat([markup_english, markup_spanish, markup_portuguese])\n",
    "markup.shape"
   ]
  },
  {
   "cell_type": "code",
   "execution_count": 88,
   "id": "40680bf3",
   "metadata": {
    "ExecuteTime": {
     "end_time": "2022-12-11T17:52:19.783629Z",
     "start_time": "2022-12-11T17:52:19.755877Z"
    }
   },
   "outputs": [
    {
     "data": {
      "text/html": [
       "<div>\n",
       "<style scoped>\n",
       "    .dataframe tbody tr th:only-of-type {\n",
       "        vertical-align: middle;\n",
       "    }\n",
       "\n",
       "    .dataframe tbody tr th {\n",
       "        vertical-align: top;\n",
       "    }\n",
       "\n",
       "    .dataframe thead th {\n",
       "        text-align: right;\n",
       "    }\n",
       "</style>\n",
       "<table border=\"1\" class=\"dataframe\">\n",
       "  <thead>\n",
       "    <tr style=\"text-align: right;\">\n",
       "      <th></th>\n",
       "      <th>channel_id</th>\n",
       "      <th>query</th>\n",
       "      <th>title</th>\n",
       "      <th>snippet</th>\n",
       "      <th>label</th>\n",
       "    </tr>\n",
       "  </thead>\n",
       "  <tbody>\n",
       "    <tr>\n",
       "      <th>0</th>\n",
       "      <td>587</td>\n",
       "      <td>Maestra, Papercup, Vitra.ai, Aloud.ai</td>\n",
       "      <td>Inflexor Ventures Announces Its Final Close At...</td>\n",
       "      <td>Inflexor has so far invested in four startups ...</td>\n",
       "      <td>1</td>\n",
       "    </tr>\n",
       "    <tr>\n",
       "      <th>1</th>\n",
       "      <td>556</td>\n",
       "      <td>Rimini Street</td>\n",
       "      <td>Curriculum Dr Babasaheb Ambedkar Marathwada Un...</td>\n",
       "      <td>Eligible and interested candidates may send an...</td>\n",
       "      <td>0</td>\n",
       "    </tr>\n",
       "    <tr>\n",
       "      <th>2</th>\n",
       "      <td>770</td>\n",
       "      <td>Jalasoft</td>\n",
       "      <td>Jalasoft busca personas para el cargo de Respo...</td>\n",
       "      <td>Jalasoft busca personas para el cargo de Respo...</td>\n",
       "      <td>1</td>\n",
       "    </tr>\n",
       "    <tr>\n",
       "      <th>3</th>\n",
       "      <td>1412</td>\n",
       "      <td>Gettransfer, Gettransfer.com, GetExperience.co...</td>\n",
       "      <td>lifetouch promo code 2022</td>\n",
       "      <td>2008NMAP4STU Free Shipping on $10+ Orders - FA...</td>\n",
       "      <td>0</td>\n",
       "    </tr>\n",
       "    <tr>\n",
       "      <th>4</th>\n",
       "      <td>1484</td>\n",
       "      <td>trtworld, TRTWorld, TRT World, trt world</td>\n",
       "      <td>OpIndia.com</td>\n",
       "      <td>In fact, TRT World had launched a promotion of...</td>\n",
       "      <td>1</td>\n",
       "    </tr>\n",
       "    <tr>\n",
       "      <th>...</th>\n",
       "      <td>...</td>\n",
       "      <td>...</td>\n",
       "      <td>...</td>\n",
       "      <td>...</td>\n",
       "      <td>...</td>\n",
       "    </tr>\n",
       "    <tr>\n",
       "      <th>3085</th>\n",
       "      <td>615</td>\n",
       "      <td>Santander Brasil</td>\n",
       "      <td>Será que vale a pena investir no negócio de en...</td>\n",
       "      <td>No ramo da energia solar, diversos bancos, com...</td>\n",
       "      <td>1</td>\n",
       "    </tr>\n",
       "    <tr>\n",
       "      <th>3086</th>\n",
       "      <td>520</td>\n",
       "      <td>Itaú Unibanco</td>\n",
       "      <td>Cubo for Devs tem inscrições até o dia 24 de O...</td>\n",
       "      <td>O Cubo também apoia as transformações digital ...</td>\n",
       "      <td>1</td>\n",
       "    </tr>\n",
       "    <tr>\n",
       "      <th>3087</th>\n",
       "      <td>619</td>\n",
       "      <td>Quintoandar</td>\n",
       "      <td>QuintoAndar Traz Martinho Da Vila Em Nova Camp...</td>\n",
       "      <td>QuintoAndar Traz Martinho Da Vila Em Nova Camp...</td>\n",
       "      <td>1</td>\n",
       "    </tr>\n",
       "    <tr>\n",
       "      <th>3088</th>\n",
       "      <td>763</td>\n",
       "      <td>Amaggi</td>\n",
       "      <td>Quais os 5 estados maiores produtores de soja ...</td>\n",
       "      <td>Juntas, Grupo Amaggi, SLC Agrícola e Grupo Bom...</td>\n",
       "      <td>0</td>\n",
       "    </tr>\n",
       "    <tr>\n",
       "      <th>3089</th>\n",
       "      <td>505</td>\n",
       "      <td>Tesla</td>\n",
       "      <td>fevereiro 2021 &amp;#8211; Alexsander Luiz de Quei...</td>\n",
       "      <td>A Tesla […]08/02/2020 Um dos efeitos da recess...</td>\n",
       "      <td>1</td>\n",
       "    </tr>\n",
       "  </tbody>\n",
       "</table>\n",
       "<p>3090 rows × 5 columns</p>\n",
       "</div>"
      ],
      "text/plain": [
       "      channel_id                                              query  \\\n",
       "0            587              Maestra, Papercup, Vitra.ai, Aloud.ai   \n",
       "1            556                                      Rimini Street   \n",
       "2            770                                           Jalasoft   \n",
       "3           1412  Gettransfer, Gettransfer.com, GetExperience.co...   \n",
       "4           1484           trtworld, TRTWorld, TRT World, trt world   \n",
       "...          ...                                                ...   \n",
       "3085         615                                   Santander Brasil   \n",
       "3086         520                                      Itaú Unibanco   \n",
       "3087         619                                        Quintoandar   \n",
       "3088         763                                             Amaggi   \n",
       "3089         505                                              Tesla   \n",
       "\n",
       "                                                  title  \\\n",
       "0     Inflexor Ventures Announces Its Final Close At...   \n",
       "1     Curriculum Dr Babasaheb Ambedkar Marathwada Un...   \n",
       "2     Jalasoft busca personas para el cargo de Respo...   \n",
       "3                             lifetouch promo code 2022   \n",
       "4                                           OpIndia.com   \n",
       "...                                                 ...   \n",
       "3085  Será que vale a pena investir no negócio de en...   \n",
       "3086  Cubo for Devs tem inscrições até o dia 24 de O...   \n",
       "3087  QuintoAndar Traz Martinho Da Vila Em Nova Camp...   \n",
       "3088  Quais os 5 estados maiores produtores de soja ...   \n",
       "3089  fevereiro 2021 &#8211; Alexsander Luiz de Quei...   \n",
       "\n",
       "                                                snippet  label  \n",
       "0     Inflexor has so far invested in four startups ...      1  \n",
       "1     Eligible and interested candidates may send an...      0  \n",
       "2     Jalasoft busca personas para el cargo de Respo...      1  \n",
       "3     2008NMAP4STU Free Shipping on $10+ Orders - FA...      0  \n",
       "4     In fact, TRT World had launched a promotion of...      1  \n",
       "...                                                 ...    ...  \n",
       "3085  No ramo da energia solar, diversos bancos, com...      1  \n",
       "3086  O Cubo também apoia as transformações digital ...      1  \n",
       "3087  QuintoAndar Traz Martinho Da Vila Em Nova Camp...      1  \n",
       "3088  Juntas, Grupo Amaggi, SLC Agrícola e Grupo Bom...      0  \n",
       "3089  A Tesla […]08/02/2020 Um dos efeitos da recess...      1  \n",
       "\n",
       "[3090 rows x 5 columns]"
      ]
     },
     "execution_count": 88,
     "metadata": {},
     "output_type": "execute_result"
    }
   ],
   "source": [
    "markup = markup.rename(columns={\n",
    "    \"INPUT:channel_id\": \"channel_id\",\n",
    "    \"INPUT:query\": \"query\",\n",
    "    \"INPUT:title\": \"title\",\n",
    "    \"INPUT:snippet\": \"snippet\",\n",
    "    \"OUTPUT:result\": \"label\"\n",
    "})[[\"channel_id\", \"query\", \"title\", \"snippet\", \"label\"]].reset_index(drop=True)\n",
    "\n",
    "markup[\"label\"] = markup[\"label\"].map({\"yes\": 1, \"no\": 0})\n",
    "\n",
    "markup"
   ]
  },
  {
   "cell_type": "code",
   "execution_count": 89,
   "id": "cab21ac8",
   "metadata": {
    "ExecuteTime": {
     "end_time": "2022-12-11T17:52:21.228625Z",
     "start_time": "2022-12-11T17:52:21.214622Z"
    },
    "cellId": "m5hjx0bzddget01fsly9oe"
   },
   "outputs": [
    {
     "data": {
      "text/plain": [
       "1    1947\n",
       "0    1143\n",
       "Name: label, dtype: int64"
      ]
     },
     "execution_count": 89,
     "metadata": {},
     "output_type": "execute_result"
    }
   ],
   "source": [
    "markup[\"label\"].value_counts()"
   ]
  },
  {
   "cell_type": "code",
   "execution_count": 90,
   "id": "eccc8244",
   "metadata": {
    "ExecuteTime": {
     "end_time": "2022-12-11T17:52:22.000731Z",
     "start_time": "2022-12-11T17:52:21.993273Z"
    },
    "cellId": "6ch1nc3rqqdhn0wimyhn1b"
   },
   "outputs": [],
   "source": [
    "labels = markup[\"label\"].values"
   ]
  },
  {
   "cell_type": "code",
   "execution_count": 91,
   "id": "574e876a",
   "metadata": {
    "ExecuteTime": {
     "end_time": "2022-12-11T17:52:22.625619Z",
     "start_time": "2022-12-11T17:52:22.620548Z"
    },
    "cellId": "rpg342gdim7gkn3aygu9h"
   },
   "outputs": [],
   "source": [
    "input_ids = []\n",
    "token_type_ids = []\n",
    "attention_masks = []"
   ]
  },
  {
   "cell_type": "code",
   "execution_count": 92,
   "id": "2a80582f",
   "metadata": {
    "ExecuteTime": {
     "end_time": "2022-12-11T17:52:25.439609Z",
     "start_time": "2022-12-11T17:52:24.623497Z"
    },
    "cellId": "3y7119qeqgypcpf1ufyl2i"
   },
   "outputs": [
    {
     "data": {
      "application/vnd.jupyter.widget-view+json": {
       "model_id": "8d2cfd4a07764f34ad0ebf4d643ddbe5",
       "version_major": 2,
       "version_minor": 0
      },
      "text/plain": [
       "0it [00:00, ?it/s]"
      ]
     },
     "metadata": {},
     "output_type": "display_data"
    }
   ],
   "source": [
    "for i, row in tqdm(markup.iterrows()):\n",
    "    query = row[\"query\"]\n",
    "    document = row[\"title\"] + \" \" + row[\"snippet\"]\n",
    "    label = row[\"label\"]\n",
    "    \n",
    "    encoded_dict = tokenizer.encode_plus(\n",
    "        query, document,\n",
    "        add_special_tokens=True,\n",
    "        max_length=128,\n",
    "        padding=\"max_length\",\n",
    "        truncation=True,\n",
    "        return_attention_mask=True, \n",
    "        return_tensors='pt',\n",
    "    )\n",
    "    \n",
    "    input_ids.append(encoded_dict['input_ids'])\n",
    "    token_type_ids.append(encoded_dict[\"token_type_ids\"])\n",
    "    attention_masks.append(encoded_dict['attention_mask'])"
   ]
  },
  {
   "cell_type": "code",
   "execution_count": 93,
   "id": "e304e5f0",
   "metadata": {
    "ExecuteTime": {
     "end_time": "2022-12-11T17:52:26.678888Z",
     "start_time": "2022-12-11T17:52:26.650424Z"
    },
    "cellId": "ilfvrxiur1dlndndfhvsrp"
   },
   "outputs": [],
   "source": [
    "input_ids = torch.cat(input_ids, dim=0)\n",
    "token_type_ids = torch.cat(token_type_ids, dim=0)\n",
    "attention_masks = torch.cat(attention_masks, dim=0)\n",
    "labels = torch.tensor(labels)"
   ]
  },
  {
   "cell_type": "code",
   "execution_count": 94,
   "id": "74f6e8ff",
   "metadata": {
    "ExecuteTime": {
     "end_time": "2022-12-11T17:52:29.613446Z",
     "start_time": "2022-12-11T17:52:29.606149Z"
    },
    "cellId": "wmv5xcw40tlui86n49afz"
   },
   "outputs": [],
   "source": [
    "dataset = TensorDataset(input_ids, token_type_ids, attention_masks, labels)"
   ]
  },
  {
   "cell_type": "code",
   "execution_count": 95,
   "id": "1922a2d1",
   "metadata": {
    "ExecuteTime": {
     "end_time": "2022-12-11T17:52:30.504054Z",
     "start_time": "2022-12-11T17:52:30.494413Z"
    },
    "cellId": "7z17rsecfhb4iqs09iik1e"
   },
   "outputs": [],
   "source": [
    "train_size = int(0.7 * len(dataset))\n",
    "val_size = len(dataset) - train_size\n",
    "\n",
    "train_dataset, val_dataset = random_split(dataset, [train_size, val_size])"
   ]
  },
  {
   "cell_type": "code",
   "execution_count": 96,
   "id": "d92677a6",
   "metadata": {
    "ExecuteTime": {
     "end_time": "2022-12-11T17:52:31.271626Z",
     "start_time": "2022-12-11T17:52:31.262931Z"
    },
    "cellId": "27th945mzireydq7zeuti"
   },
   "outputs": [],
   "source": [
    "batch_size = 32"
   ]
  },
  {
   "cell_type": "code",
   "execution_count": 97,
   "id": "972a6f57",
   "metadata": {
    "ExecuteTime": {
     "end_time": "2022-12-11T17:52:31.755269Z",
     "start_time": "2022-12-11T17:52:31.747240Z"
    },
    "cellId": "6zjpyklfv2cedvkn69t3g7"
   },
   "outputs": [],
   "source": [
    "train_dataloader = DataLoader(\n",
    "    train_dataset,\n",
    "    batch_size=batch_size,\n",
    "    shuffle=True\n",
    ")\n",
    "\n",
    "val_dataloader = DataLoader(\n",
    "    val_dataset,\n",
    "    batch_size=batch_size,\n",
    "    shuffle=False\n",
    ")"
   ]
  },
  {
   "cell_type": "code",
   "execution_count": 98,
   "id": "53b7a48f",
   "metadata": {
    "ExecuteTime": {
     "end_time": "2022-12-11T17:52:35.486448Z",
     "start_time": "2022-12-11T17:52:33.209363Z"
    },
    "cellId": "5uiht9911kc17vvad5mk"
   },
   "outputs": [
    {
     "name": "stderr",
     "output_type": "stream",
     "text": [
      "Some weights of the model checkpoint at bert-base-multilingual-cased were not used when initializing BertForSequenceClassification: ['cls.predictions.transform.LayerNorm.bias', 'cls.seq_relationship.bias', 'cls.predictions.transform.dense.weight', 'cls.predictions.transform.dense.bias', 'cls.predictions.bias', 'cls.predictions.decoder.weight', 'cls.predictions.transform.LayerNorm.weight', 'cls.seq_relationship.weight']\n",
      "- This IS expected if you are initializing BertForSequenceClassification from the checkpoint of a model trained on another task or with another architecture (e.g. initializing a BertForSequenceClassification model from a BertForPreTraining model).\n",
      "- This IS NOT expected if you are initializing BertForSequenceClassification from the checkpoint of a model that you expect to be exactly identical (initializing a BertForSequenceClassification model from a BertForSequenceClassification model).\n",
      "Some weights of BertForSequenceClassification were not initialized from the model checkpoint at bert-base-multilingual-cased and are newly initialized: ['classifier.bias', 'classifier.weight']\n",
      "You should probably TRAIN this model on a down-stream task to be able to use it for predictions and inference.\n"
     ]
    }
   ],
   "source": [
    "model = BertForSequenceClassification.from_pretrained(\n",
    "    \"bert-base-multilingual-cased\",\n",
    "    num_labels=2, # binary classification\n",
    "    output_attentions=False,\n",
    "    output_hidden_states=False,\n",
    ")"
   ]
  },
  {
   "cell_type": "code",
   "execution_count": 99,
   "id": "36ce7f69",
   "metadata": {
    "ExecuteTime": {
     "end_time": "2022-12-11T17:52:36.151588Z",
     "start_time": "2022-12-11T17:52:36.142377Z"
    },
    "cellId": "58w9s9h2pgmt99uq4j4wto"
   },
   "outputs": [],
   "source": [
    "optimizer = AdamW(\n",
    "    model.parameters(),\n",
    "    lr=1e-5, # args.learning_rate - default is 5e-5\n",
    "    eps=1e-8, # args.adam_epsilon  - default is 1e-8.\n",
    "    weight_decay=1e-7, \n",
    ")"
   ]
  },
  {
   "cell_type": "code",
   "execution_count": 100,
   "id": "30d672d3",
   "metadata": {
    "ExecuteTime": {
     "end_time": "2022-12-11T17:52:36.605828Z",
     "start_time": "2022-12-11T17:52:36.598056Z"
    },
    "cellId": "wsve4wfd7tppw140lp3oh"
   },
   "outputs": [],
   "source": [
    "def flat_accuracy(preds, labels):\n",
    "    pred_flat = np.argmax(preds, axis=1).flatten()\n",
    "    labels_flat = labels.flatten()\n",
    "    return np.sum(pred_flat == labels_flat) / len(labels_flat)"
   ]
  },
  {
   "cell_type": "code",
   "execution_count": 101,
   "id": "3db641f3",
   "metadata": {
    "ExecuteTime": {
     "end_time": "2022-12-11T17:52:37.186015Z",
     "start_time": "2022-12-11T17:52:37.175262Z"
    }
   },
   "outputs": [],
   "source": [
    "def flat_roc_auc(preds, labels):\n",
    "    preds = preds[:, 1].ravel()\n",
    "    labels = labels.ravel()\n",
    "    return roc_auc_score(labels, preds)"
   ]
  },
  {
   "cell_type": "code",
   "execution_count": 102,
   "id": "690eb68d",
   "metadata": {
    "ExecuteTime": {
     "end_time": "2022-12-11T17:52:37.771840Z",
     "start_time": "2022-12-11T17:52:37.764018Z"
    },
    "cellId": "16lixo1g9hnbnlrxl9yg04"
   },
   "outputs": [],
   "source": [
    "epochs = 3\n",
    "\n",
    "# Total number of training steps is [number of batches] x [number of epochs]. \n",
    "# (Note that this is not the same as the number of training samples).\n",
    "total_steps = len(train_dataloader) * epochs\n",
    "\n",
    "# Create the learning rate scheduler.\n",
    "scheduler = get_linear_schedule_with_warmup(optimizer, \n",
    "                                            num_warmup_steps=0,\n",
    "                                            num_training_steps=total_steps)"
   ]
  },
  {
   "cell_type": "code",
   "execution_count": 103,
   "id": "a2f7d031",
   "metadata": {
    "ExecuteTime": {
     "end_time": "2022-12-11T17:52:38.304519Z",
     "start_time": "2022-12-11T17:52:38.298780Z"
    },
    "cellId": "jvtzislkm48e67h045dnn"
   },
   "outputs": [],
   "source": [
    "training_stats = []"
   ]
  },
  {
   "cell_type": "code",
   "execution_count": 104,
   "id": "50dbab06",
   "metadata": {
    "ExecuteTime": {
     "end_time": "2022-12-11T17:52:39.381881Z",
     "start_time": "2022-12-11T17:52:39.051518Z"
    },
    "cellId": "egub4100vlr1yjdhjuetz8"
   },
   "outputs": [],
   "source": [
    "if torch.cuda.is_available():\n",
    "    device = \"cuda\"\n",
    "elif torch.backends.mps.is_available():\n",
    "    device = \"mps\"\n",
    "else:\n",
    "    device = \"cpu\"\n",
    "model = model.to(device)"
   ]
  },
  {
   "cell_type": "code",
   "execution_count": 106,
   "id": "5b00b4ec",
   "metadata": {
    "ExecuteTime": {
     "end_time": "2022-12-11T17:55:44.768324Z",
     "start_time": "2022-12-11T17:52:40.930611Z"
    },
    "cellId": "28r76qrnt4ycveuo54pkft"
   },
   "outputs": [
    {
     "name": "stdout",
     "output_type": "stream",
     "text": [
      "\n",
      "======== Epoch 1 / 3 ========\n"
     ]
    },
    {
     "data": {
      "application/vnd.jupyter.widget-view+json": {
       "model_id": "c4f8388dbb734206bc66bd65e99a4d8d",
       "version_major": 2,
       "version_minor": 0
      },
      "text/plain": [
       "0it [00:00, ?it/s]"
      ]
     },
     "metadata": {},
     "output_type": "display_data"
    },
    {
     "name": "stdout",
     "output_type": "stream",
     "text": [
      "  Batch    40  of     68.    Elapsed: 0:00:31.\n",
      "\n",
      "  Average training loss: 0.62\n",
      "  Training epcoh took: 0:00:54\n",
      "\n",
      "Running Validation...\n"
     ]
    },
    {
     "data": {
      "application/vnd.jupyter.widget-view+json": {
       "model_id": "15f27f0918254de5a62053302e4d8ab4",
       "version_major": 2,
       "version_minor": 0
      },
      "text/plain": [
       "  0%|          | 0/29 [00:00<?, ?it/s]"
      ]
     },
     "metadata": {},
     "output_type": "display_data"
    },
    {
     "name": "stdout",
     "output_type": "stream",
     "text": [
      "  ROC-AUC: 0.78\n",
      "  Accuracy: 0.72\n",
      "  Validation Loss: 0.55\n",
      "  Validation took: 0:00:07\n",
      "\n",
      "======== Epoch 2 / 3 ========\n"
     ]
    },
    {
     "data": {
      "application/vnd.jupyter.widget-view+json": {
       "model_id": "e95993c29adf450cb20692189209f44c",
       "version_major": 2,
       "version_minor": 0
      },
      "text/plain": [
       "0it [00:00, ?it/s]"
      ]
     },
     "metadata": {},
     "output_type": "display_data"
    },
    {
     "name": "stdout",
     "output_type": "stream",
     "text": [
      "  Batch    40  of     68.    Elapsed: 0:00:32.\n",
      "\n",
      "  Average training loss: 0.53\n",
      "  Training epcoh took: 0:00:54\n",
      "\n",
      "Running Validation...\n"
     ]
    },
    {
     "data": {
      "application/vnd.jupyter.widget-view+json": {
       "model_id": "3156b05ba8e54e00840beb9100e8619a",
       "version_major": 2,
       "version_minor": 0
      },
      "text/plain": [
       "  0%|          | 0/29 [00:00<?, ?it/s]"
      ]
     },
     "metadata": {},
     "output_type": "display_data"
    },
    {
     "name": "stdout",
     "output_type": "stream",
     "text": [
      "  ROC-AUC: 0.77\n",
      "  Accuracy: 0.73\n",
      "  Validation Loss: 0.57\n",
      "  Validation took: 0:00:07\n",
      "\n",
      "======== Epoch 3 / 3 ========\n"
     ]
    },
    {
     "data": {
      "application/vnd.jupyter.widget-view+json": {
       "model_id": "7da2dd451013429e8e9d6888885db564",
       "version_major": 2,
       "version_minor": 0
      },
      "text/plain": [
       "0it [00:00, ?it/s]"
      ]
     },
     "metadata": {},
     "output_type": "display_data"
    },
    {
     "name": "stdout",
     "output_type": "stream",
     "text": [
      "  Batch    40  of     68.    Elapsed: 0:00:34.\n",
      "\n",
      "  Average training loss: 0.53\n",
      "  Training epcoh took: 0:00:56\n",
      "\n",
      "Running Validation...\n"
     ]
    },
    {
     "data": {
      "application/vnd.jupyter.widget-view+json": {
       "model_id": "c6d9b863f4dc475f85aeca52d77a4abe",
       "version_major": 2,
       "version_minor": 0
      },
      "text/plain": [
       "  0%|          | 0/29 [00:00<?, ?it/s]"
      ]
     },
     "metadata": {},
     "output_type": "display_data"
    },
    {
     "name": "stdout",
     "output_type": "stream",
     "text": [
      "  ROC-AUC: 0.78\n",
      "  Accuracy: 0.73\n",
      "  Validation Loss: 0.57\n",
      "  Validation took: 0:00:07\n"
     ]
    }
   ],
   "source": [
    "torch.cuda.empty_cache()\n",
    "for epoch_i in range(epochs):\n",
    "    print('\\n======== Epoch {:} / {:} ========'.format(epoch_i + 1, epochs))\n",
    "\n",
    "    # Measure how long the training epoch takes.\n",
    "    t0 = time.time()\n",
    "\n",
    "    total_train_loss = 0\n",
    "    \n",
    "    model.train()\n",
    "\n",
    "    for step, batch in tqdm(enumerate(train_dataloader)):\n",
    "\n",
    "        # Progress update every 40 batches.\n",
    "        if step % 40 == 0 and not step == 0:\n",
    "            elapsed = format_time(time.time() - t0)\n",
    "            print('  Batch {:>5,}  of  {:>5,}.    Elapsed: {:}.'.format(step, len(train_dataloader), elapsed))\n",
    "\n",
    "        b_input_ids = batch[0].to(device)\n",
    "        b_token_type_ids = batch[1].to(device)\n",
    "        b_input_mask = batch[2].to(device)\n",
    "        b_labels = batch[3].to(device)\n",
    "\n",
    "        model.zero_grad()        \n",
    "\n",
    "        output = model(b_input_ids, \n",
    "                       token_type_ids=b_token_type_ids, \n",
    "                       attention_mask=b_input_mask, \n",
    "                       labels=b_labels)\n",
    "\n",
    "        loss = output.loss\n",
    "        logits = output.logits\n",
    "        total_train_loss += loss.item()\n",
    "\n",
    "        loss.backward()\n",
    "        # Clip the norm of the gradients to 1.0.\n",
    "        # This is to help prevent the \"exploding gradients\" problem.\n",
    "        torch.nn.utils.clip_grad_norm_(model.parameters(), 1.0)\n",
    "        optimizer.step()\n",
    "        scheduler.step()\n",
    "\n",
    "    # Calculate the average loss over all of the batches.\n",
    "    avg_train_loss = total_train_loss / len(train_dataloader)            \n",
    "    \n",
    "    # Measure how long this epoch took.\n",
    "    training_time = format_time(time.time() - t0)\n",
    "\n",
    "    print(\"\")\n",
    "    print(\"  Average training loss: {0:.2f}\".format(avg_train_loss))\n",
    "    print(\"  Training epcoh took: {:}\".format(training_time))\n",
    "\n",
    "    print(\"\")\n",
    "    print(\"Running Validation...\")\n",
    "\n",
    "    t0 = time.time()\n",
    "\n",
    "    # Put the model in evaluation mode--the dropout layers behave differently\n",
    "    # during evaluation.\n",
    "    model.eval()\n",
    "\n",
    "    # Tracking variables \n",
    "    total_eval_accuracy = 0\n",
    "    total_eval_loss = 0\n",
    "    nb_eval_steps = 0\n",
    "    \n",
    "    val_labels = []\n",
    "    val_probs = []\n",
    "\n",
    "    # Evaluate data for one epoch\n",
    "    for batch in tqdm(val_dataloader):\n",
    "        \n",
    "        b_input_ids = batch[0].to(device)\n",
    "        b_token_type_ids = batch[1].to(device)\n",
    "        b_input_mask = batch[2].to(device)\n",
    "        b_labels = batch[3].to(device)\n",
    "        \n",
    "        # Tell pytorch not to bother with constructing the compute graph during\n",
    "        # the forward pass, since this is only needed for backprop (training).\n",
    "        with torch.no_grad():        \n",
    "\n",
    "            # Forward pass, calculate logit predictions.\n",
    "            # token_type_ids is the same as the \"segment ids\", which \n",
    "            # differentiates sentence 1 and 2 in 2-sentence tasks.\n",
    "            # Get the \"logits\" output by the model. The \"logits\" are the output\n",
    "            # values prior to applying an activation function like the softmax.\n",
    "            output = model(b_input_ids, \n",
    "                      token_type_ids=b_token_type_ids, \n",
    "                      attention_mask=b_input_mask,\n",
    "                      labels=b_labels)\n",
    "            loss = output.loss\n",
    "            logits = output.logits\n",
    "            \n",
    "        total_eval_loss += loss.item()\n",
    "\n",
    "        logits = logits.detach().cpu().numpy()\n",
    "        label_ids = b_labels.cpu().numpy()\n",
    "        \n",
    "        val_labels.append(label_ids)\n",
    "        val_probs.append(softmax(logits, axis=1))\n",
    "\n",
    "        total_eval_accuracy += flat_accuracy(logits, label_ids)\n",
    "    \n",
    "    val_labels = np.concatenate(val_labels)\n",
    "    val_probs = np.concatenate(val_probs)\n",
    "    \n",
    "    print(\"  ROC-AUC: {0:.2f}\".format(flat_roc_auc(val_probs, val_labels)))\n",
    "\n",
    "    avg_val_accuracy = total_eval_accuracy / len(val_dataloader)\n",
    "    print(\"  Accuracy: {0:.2f}\".format(avg_val_accuracy))\n",
    "\n",
    "    # Calculate the average loss over all of the batches.\n",
    "    avg_val_loss = total_eval_loss / len(val_dataloader)\n",
    "    \n",
    "    validation_time = format_time(time.time() - t0)\n",
    "    \n",
    "    print(\"  Validation Loss: {0:.2f}\".format(avg_val_loss))\n",
    "    print(\"  Validation took: {:}\".format(validation_time))\n",
    "\n",
    "    # Record all statistics from this epoch.\n",
    "    training_stats.append(\n",
    "        {\n",
    "            'epoch': epoch_i + 1,\n",
    "            'Training Loss': avg_train_loss,\n",
    "            'Valid. Loss': avg_val_loss,\n",
    "            'Valid. Accur.': avg_val_accuracy,\n",
    "            'Training Time': training_time,\n",
    "            'Validation Time': validation_time\n",
    "        }\n",
    "    )"
   ]
  },
  {
   "cell_type": "code",
   "execution_count": 128,
   "id": "d788efbd",
   "metadata": {
    "ExecuteTime": {
     "end_time": "2022-12-11T20:29:02.066190Z",
     "start_time": "2022-12-11T20:29:00.752519Z"
    }
   },
   "outputs": [],
   "source": [
    "model.save_pretrained(\"./models/pretrained-bert.pt\")"
   ]
  },
  {
   "cell_type": "markdown",
   "id": "8bf4d21f",
   "metadata": {
    "cellId": "idk6l8emhincp76a1coyg",
    "execution_id": "ddbba8ed-150c-4451-903a-c79df42efef9"
   },
   "source": [
    "#  Predictions\n",
    "\n",
    "### Data preparation"
   ]
  },
  {
   "cell_type": "code",
   "execution_count": 115,
   "id": "8f757e14",
   "metadata": {
    "ExecuteTime": {
     "end_time": "2022-12-11T19:28:12.888067Z",
     "start_time": "2022-12-11T19:28:12.856077Z"
    }
   },
   "outputs": [
    {
     "data": {
      "text/html": [
       "<div>\n",
       "<style scoped>\n",
       "    .dataframe tbody tr th:only-of-type {\n",
       "        vertical-align: middle;\n",
       "    }\n",
       "\n",
       "    .dataframe tbody tr th {\n",
       "        vertical-align: top;\n",
       "    }\n",
       "\n",
       "    .dataframe thead th {\n",
       "        text-align: right;\n",
       "    }\n",
       "</style>\n",
       "<table border=\"1\" class=\"dataframe\">\n",
       "  <thead>\n",
       "    <tr style=\"text-align: right;\">\n",
       "      <th></th>\n",
       "      <th>id</th>\n",
       "      <th>url</th>\n",
       "      <th>Query</th>\n",
       "      <th>Title</th>\n",
       "      <th>Snippet</th>\n",
       "    </tr>\n",
       "  </thead>\n",
       "  <tbody>\n",
       "    <tr>\n",
       "      <th>0</th>\n",
       "      <td>620</td>\n",
       "      <td></td>\n",
       "      <td>Grupo Bimbo</td>\n",
       "      <td>Diário do Comércio</td>\n",
       "      <td>Setenta anos mais tarde, seu neto Massimo é pr...</td>\n",
       "    </tr>\n",
       "    <tr>\n",
       "      <th>1</th>\n",
       "      <td>823</td>\n",
       "      <td></td>\n",
       "      <td>Aice Mochi, Aice Klepon, Aice Jagung</td>\n",
       "      <td>Jens Rydqvist🇸🇪🇺🇲 on Twitter</td>\n",
       "      <td>Mixing religion and politics is like mixing ic...</td>\n",
       "    </tr>\n",
       "    <tr>\n",
       "      <th>2</th>\n",
       "      <td>505</td>\n",
       "      <td></td>\n",
       "      <td>Tesla</td>\n",
       "      <td>Twitter begins layoffs, cuts to affect 50% of ...</td>\n",
       "      <td>Tesla CEO Elon Musk closed the deal to acquire...</td>\n",
       "    </tr>\n",
       "    <tr>\n",
       "      <th>3</th>\n",
       "      <td>581</td>\n",
       "      <td></td>\n",
       "      <td>Verzani &amp; Sandrini, Verzani Sandrini</td>\n",
       "      <td>Auricchio assina Ordem de Serviço para a revit...</td>\n",
       "      <td>Prefeito de São Caetano fez balanço das reform...</td>\n",
       "    </tr>\n",
       "    <tr>\n",
       "      <th>4</th>\n",
       "      <td>770</td>\n",
       "      <td></td>\n",
       "      <td>Jalasoft</td>\n",
       "      <td>Marcelo Claure, Rosario Paz, Ximena Behoteguy ...</td>\n",
       "      <td>So, he founded Jalasoft with only six engineer...</td>\n",
       "    </tr>\n",
       "    <tr>\n",
       "      <th>...</th>\n",
       "      <td>...</td>\n",
       "      <td>...</td>\n",
       "      <td>...</td>\n",
       "      <td>...</td>\n",
       "      <td>...</td>\n",
       "    </tr>\n",
       "    <tr>\n",
       "      <th>395</th>\n",
       "      <td>913</td>\n",
       "      <td></td>\n",
       "      <td>Rush Royale</td>\n",
       "      <td>mvc ajax form submit without refresh</td>\n",
       "      <td>Download Code Sample Download Free Word/PDF/Ex...</td>\n",
       "    </tr>\n",
       "    <tr>\n",
       "      <th>396</th>\n",
       "      <td>613</td>\n",
       "      <td></td>\n",
       "      <td>El Economista</td>\n",
       "      <td>Link to page</td>\n",
       "      <td>🔴 Ocurrió en Monterrey, mientras el economista...</td>\n",
       "    </tr>\n",
       "    <tr>\n",
       "      <th>397</th>\n",
       "      <td>618</td>\n",
       "      <td></td>\n",
       "      <td>Cencosud S.A.</td>\n",
       "      <td>Manual de Instalação da Imagem do Windows-7 [P...</td>\n",
       "      <td>PREVIEW PDF Titulo – Procedimento para Instala...</td>\n",
       "    </tr>\n",
       "    <tr>\n",
       "      <th>398</th>\n",
       "      <td>823</td>\n",
       "      <td></td>\n",
       "      <td>Aice Mochi, Aice Klepon, Aice Jagung</td>\n",
       "      <td>Deeper Purpose Community Church hosting carniv...</td>\n",
       "      <td>They will also have bounce houses, pony rides,...</td>\n",
       "    </tr>\n",
       "    <tr>\n",
       "      <th>399</th>\n",
       "      <td>619</td>\n",
       "      <td></td>\n",
       "      <td>Quintoandar</td>\n",
       "      <td>Bons números da macroeconomia contrastam com a...</td>\n",
       "      <td>Somadas, empresas como Ebanx, Kavak, Facily, V...</td>\n",
       "    </tr>\n",
       "  </tbody>\n",
       "</table>\n",
       "<p>400 rows × 5 columns</p>\n",
       "</div>"
      ],
      "text/plain": [
       "      id url                                 Query  \\\n",
       "0    620                               Grupo Bimbo   \n",
       "1    823      Aice Mochi, Aice Klepon, Aice Jagung   \n",
       "2    505                                     Tesla   \n",
       "3    581      Verzani & Sandrini, Verzani Sandrini   \n",
       "4    770                                  Jalasoft   \n",
       "..   ...  ..                                   ...   \n",
       "395  913                               Rush Royale   \n",
       "396  613                             El Economista   \n",
       "397  618                             Cencosud S.A.   \n",
       "398  823      Aice Mochi, Aice Klepon, Aice Jagung   \n",
       "399  619                               Quintoandar   \n",
       "\n",
       "                                                 Title  \\\n",
       "0                                   Diário do Comércio   \n",
       "1                         Jens Rydqvist🇸🇪🇺🇲 on Twitter   \n",
       "2    Twitter begins layoffs, cuts to affect 50% of ...   \n",
       "3    Auricchio assina Ordem de Serviço para a revit...   \n",
       "4    Marcelo Claure, Rosario Paz, Ximena Behoteguy ...   \n",
       "..                                                 ...   \n",
       "395               mvc ajax form submit without refresh   \n",
       "396                                       Link to page   \n",
       "397  Manual de Instalação da Imagem do Windows-7 [P...   \n",
       "398  Deeper Purpose Community Church hosting carniv...   \n",
       "399  Bons números da macroeconomia contrastam com a...   \n",
       "\n",
       "                                               Snippet  \n",
       "0    Setenta anos mais tarde, seu neto Massimo é pr...  \n",
       "1    Mixing religion and politics is like mixing ic...  \n",
       "2    Tesla CEO Elon Musk closed the deal to acquire...  \n",
       "3    Prefeito de São Caetano fez balanço das reform...  \n",
       "4    So, he founded Jalasoft with only six engineer...  \n",
       "..                                                 ...  \n",
       "395  Download Code Sample Download Free Word/PDF/Ex...  \n",
       "396  🔴 Ocurrió en Monterrey, mientras el economista...  \n",
       "397  PREVIEW PDF Titulo – Procedimento para Instala...  \n",
       "398  They will also have bounce houses, pony rides,...  \n",
       "399  Somadas, empresas como Ebanx, Kavak, Facily, V...  \n",
       "\n",
       "[400 rows x 5 columns]"
      ]
     },
     "execution_count": 115,
     "metadata": {},
     "output_type": "execute_result"
    }
   ],
   "source": [
    "fake_test_dataset = markup.loc[np.random.choice(markup.shape[0], size=400, replace=False)]\n",
    "fake_test_dataset[\"url\"] = \"\"\n",
    "fake_test_dataset = fake_test_dataset.rename(columns={\n",
    "    \"channel_id\": \"id\", \n",
    "    \"query\": \"Query\", \n",
    "    \"title\": \"Title\", \n",
    "    \"snippet\": \"Snippet\"\n",
    "})[[\"id\", \"url\", \"Query\", \"Title\", \"Snippet\"]].reset_index(drop=True)\n",
    "fake_test_dataset.to_csv(\"fake_test_dataset.csv\", index=False)\n",
    "\n",
    "fake_test_dataset"
   ]
  },
  {
   "cell_type": "markdown",
   "id": "f5f43ea1",
   "metadata": {
    "cellId": "a34d9fqpkkwwwf9wvi24ms",
    "execution_id": "c7bf7e16-8446-41b5-a54d-4d24921cdb7f"
   },
   "source": [
    "Ниже нужно прочитать данные из файла в описании задачи"
   ]
  },
  {
   "cell_type": "code",
   "execution_count": 116,
   "id": "3ec224e6",
   "metadata": {
    "ExecuteTime": {
     "end_time": "2022-12-11T19:28:31.399594Z",
     "start_time": "2022-12-11T19:28:31.366829Z"
    }
   },
   "outputs": [
    {
     "data": {
      "text/html": [
       "<div>\n",
       "<style scoped>\n",
       "    .dataframe tbody tr th:only-of-type {\n",
       "        vertical-align: middle;\n",
       "    }\n",
       "\n",
       "    .dataframe tbody tr th {\n",
       "        vertical-align: top;\n",
       "    }\n",
       "\n",
       "    .dataframe thead th {\n",
       "        text-align: right;\n",
       "    }\n",
       "</style>\n",
       "<table border=\"1\" class=\"dataframe\">\n",
       "  <thead>\n",
       "    <tr style=\"text-align: right;\">\n",
       "      <th></th>\n",
       "      <th>id</th>\n",
       "      <th>url</th>\n",
       "      <th>Query</th>\n",
       "      <th>Title</th>\n",
       "      <th>Snippet</th>\n",
       "    </tr>\n",
       "  </thead>\n",
       "  <tbody>\n",
       "    <tr>\n",
       "      <th>0</th>\n",
       "      <td>620</td>\n",
       "      <td>NaN</td>\n",
       "      <td>Grupo Bimbo</td>\n",
       "      <td>Diário do Comércio</td>\n",
       "      <td>Setenta anos mais tarde, seu neto Massimo é pr...</td>\n",
       "    </tr>\n",
       "    <tr>\n",
       "      <th>1</th>\n",
       "      <td>823</td>\n",
       "      <td>NaN</td>\n",
       "      <td>Aice Mochi, Aice Klepon, Aice Jagung</td>\n",
       "      <td>Jens Rydqvist🇸🇪🇺🇲 on Twitter</td>\n",
       "      <td>Mixing religion and politics is like mixing ic...</td>\n",
       "    </tr>\n",
       "    <tr>\n",
       "      <th>2</th>\n",
       "      <td>505</td>\n",
       "      <td>NaN</td>\n",
       "      <td>Tesla</td>\n",
       "      <td>Twitter begins layoffs, cuts to affect 50% of ...</td>\n",
       "      <td>Tesla CEO Elon Musk closed the deal to acquire...</td>\n",
       "    </tr>\n",
       "    <tr>\n",
       "      <th>3</th>\n",
       "      <td>581</td>\n",
       "      <td>NaN</td>\n",
       "      <td>Verzani &amp; Sandrini, Verzani Sandrini</td>\n",
       "      <td>Auricchio assina Ordem de Serviço para a revit...</td>\n",
       "      <td>Prefeito de São Caetano fez balanço das reform...</td>\n",
       "    </tr>\n",
       "    <tr>\n",
       "      <th>4</th>\n",
       "      <td>770</td>\n",
       "      <td>NaN</td>\n",
       "      <td>Jalasoft</td>\n",
       "      <td>Marcelo Claure, Rosario Paz, Ximena Behoteguy ...</td>\n",
       "      <td>So, he founded Jalasoft with only six engineer...</td>\n",
       "    </tr>\n",
       "    <tr>\n",
       "      <th>...</th>\n",
       "      <td>...</td>\n",
       "      <td>...</td>\n",
       "      <td>...</td>\n",
       "      <td>...</td>\n",
       "      <td>...</td>\n",
       "    </tr>\n",
       "    <tr>\n",
       "      <th>395</th>\n",
       "      <td>913</td>\n",
       "      <td>NaN</td>\n",
       "      <td>Rush Royale</td>\n",
       "      <td>mvc ajax form submit without refresh</td>\n",
       "      <td>Download Code Sample Download Free Word/PDF/Ex...</td>\n",
       "    </tr>\n",
       "    <tr>\n",
       "      <th>396</th>\n",
       "      <td>613</td>\n",
       "      <td>NaN</td>\n",
       "      <td>El Economista</td>\n",
       "      <td>Link to page</td>\n",
       "      <td>🔴 Ocurrió en Monterrey, mientras el economista...</td>\n",
       "    </tr>\n",
       "    <tr>\n",
       "      <th>397</th>\n",
       "      <td>618</td>\n",
       "      <td>NaN</td>\n",
       "      <td>Cencosud S.A.</td>\n",
       "      <td>Manual de Instalação da Imagem do Windows-7 [P...</td>\n",
       "      <td>PREVIEW PDF Titulo – Procedimento para Instala...</td>\n",
       "    </tr>\n",
       "    <tr>\n",
       "      <th>398</th>\n",
       "      <td>823</td>\n",
       "      <td>NaN</td>\n",
       "      <td>Aice Mochi, Aice Klepon, Aice Jagung</td>\n",
       "      <td>Deeper Purpose Community Church hosting carniv...</td>\n",
       "      <td>They will also have bounce houses, pony rides,...</td>\n",
       "    </tr>\n",
       "    <tr>\n",
       "      <th>399</th>\n",
       "      <td>619</td>\n",
       "      <td>NaN</td>\n",
       "      <td>Quintoandar</td>\n",
       "      <td>Bons números da macroeconomia contrastam com a...</td>\n",
       "      <td>Somadas, empresas como Ebanx, Kavak, Facily, V...</td>\n",
       "    </tr>\n",
       "  </tbody>\n",
       "</table>\n",
       "<p>400 rows × 5 columns</p>\n",
       "</div>"
      ],
      "text/plain": [
       "      id  url                                 Query  \\\n",
       "0    620  NaN                           Grupo Bimbo   \n",
       "1    823  NaN  Aice Mochi, Aice Klepon, Aice Jagung   \n",
       "2    505  NaN                                 Tesla   \n",
       "3    581  NaN  Verzani & Sandrini, Verzani Sandrini   \n",
       "4    770  NaN                              Jalasoft   \n",
       "..   ...  ...                                   ...   \n",
       "395  913  NaN                           Rush Royale   \n",
       "396  613  NaN                         El Economista   \n",
       "397  618  NaN                         Cencosud S.A.   \n",
       "398  823  NaN  Aice Mochi, Aice Klepon, Aice Jagung   \n",
       "399  619  NaN                           Quintoandar   \n",
       "\n",
       "                                                 Title  \\\n",
       "0                                   Diário do Comércio   \n",
       "1                         Jens Rydqvist🇸🇪🇺🇲 on Twitter   \n",
       "2    Twitter begins layoffs, cuts to affect 50% of ...   \n",
       "3    Auricchio assina Ordem de Serviço para a revit...   \n",
       "4    Marcelo Claure, Rosario Paz, Ximena Behoteguy ...   \n",
       "..                                                 ...   \n",
       "395               mvc ajax form submit without refresh   \n",
       "396                                       Link to page   \n",
       "397  Manual de Instalação da Imagem do Windows-7 [P...   \n",
       "398  Deeper Purpose Community Church hosting carniv...   \n",
       "399  Bons números da macroeconomia contrastam com a...   \n",
       "\n",
       "                                               Snippet  \n",
       "0    Setenta anos mais tarde, seu neto Massimo é pr...  \n",
       "1    Mixing religion and politics is like mixing ic...  \n",
       "2    Tesla CEO Elon Musk closed the deal to acquire...  \n",
       "3    Prefeito de São Caetano fez balanço das reform...  \n",
       "4    So, he founded Jalasoft with only six engineer...  \n",
       "..                                                 ...  \n",
       "395  Download Code Sample Download Free Word/PDF/Ex...  \n",
       "396  🔴 Ocurrió en Monterrey, mientras el economista...  \n",
       "397  PREVIEW PDF Titulo – Procedimento para Instala...  \n",
       "398  They will also have bounce houses, pony rides,...  \n",
       "399  Somadas, empresas como Ebanx, Kavak, Facily, V...  \n",
       "\n",
       "[400 rows x 5 columns]"
      ]
     },
     "execution_count": 116,
     "metadata": {},
     "output_type": "execute_result"
    }
   ],
   "source": [
    "test_frame = pd.read_csv(\"fake_test_dataset.csv\").reset_index(drop=True)\n",
    "test_frame"
   ]
  },
  {
   "cell_type": "code",
   "execution_count": 117,
   "id": "57fefb8c",
   "metadata": {
    "ExecuteTime": {
     "end_time": "2022-12-11T19:31:47.506984Z",
     "start_time": "2022-12-11T19:31:47.499678Z"
    }
   },
   "outputs": [],
   "source": [
    "test_frame = test_frame.rename(columns={\"Query\": \"query\", \"Title\": \"title\", \"Snippet\": \"snippet\"})"
   ]
  },
  {
   "cell_type": "code",
   "execution_count": 118,
   "id": "3ca5b9f0",
   "metadata": {
    "ExecuteTime": {
     "end_time": "2022-12-11T19:32:13.070908Z",
     "start_time": "2022-12-11T19:32:12.920794Z"
    },
    "cellId": "yotkewoinx9lpn84izk6wb"
   },
   "outputs": [
    {
     "data": {
      "application/vnd.jupyter.widget-view+json": {
       "model_id": "fdc57fde6f9a42e78ff621046bcd1eda",
       "version_major": 2,
       "version_minor": 0
      },
      "text/plain": [
       "0it [00:00, ?it/s]"
      ]
     },
     "metadata": {},
     "output_type": "display_data"
    }
   ],
   "source": [
    "test_input_ids = []\n",
    "test_token_type_ids = []\n",
    "test_attention_masks = []\n",
    "\n",
    "for i, row in tqdm(test_frame.iterrows()):\n",
    "    query = row[\"query\"]\n",
    "    document = row[\"title\"] + \" \" + row[\"snippet\"]\n",
    "    \n",
    "    encoded_dict = tokenizer.encode_plus(\n",
    "        query, document,\n",
    "        add_special_tokens=True,\n",
    "        max_length=128,\n",
    "        padding=\"max_length\",\n",
    "        truncation=True,\n",
    "        return_attention_mask=True, \n",
    "        return_tensors='pt',\n",
    "   )\n",
    "    \n",
    "    test_input_ids.append(encoded_dict['input_ids'])\n",
    "    test_token_type_ids.append(encoded_dict[\"token_type_ids\"])\n",
    "    test_attention_masks.append(encoded_dict['attention_mask'])"
   ]
  },
  {
   "cell_type": "code",
   "execution_count": 119,
   "id": "1d95b2a2",
   "metadata": {
    "ExecuteTime": {
     "end_time": "2022-12-11T19:32:58.594206Z",
     "start_time": "2022-12-11T19:32:58.579197Z"
    },
    "cellId": "zaea3bkb5tja3l5hw2g8eb"
   },
   "outputs": [],
   "source": [
    "test_input_ids = torch.cat(test_input_ids, dim=0)\n",
    "test_token_type_ids = torch.cat(test_token_type_ids, dim=0)\n",
    "test_attention_masks = torch.cat(test_attention_masks, dim=0)\n",
    "\n",
    "test_dataset = TensorDataset(test_input_ids, test_token_type_ids, test_attention_masks)\n",
    "\n",
    "test_dataloader = DataLoader(\n",
    "    test_dataset,\n",
    "    batch_size=batch_size,\n",
    "    shuffle=False\n",
    ")"
   ]
  },
  {
   "cell_type": "markdown",
   "id": "8e4f476e",
   "metadata": {
    "cellId": "48ul8ko2x57ge23sktqasf",
    "execution_id": "b79387ea-e8c5-4765-a93f-4980531aa033"
   },
   "source": [
    "### Предсказания"
   ]
  },
  {
   "cell_type": "code",
   "execution_count": 124,
   "id": "3db53d8c",
   "metadata": {
    "ExecuteTime": {
     "end_time": "2022-12-11T19:37:25.038671Z",
     "start_time": "2022-12-11T19:37:22.188666Z"
    },
    "cellId": "8mse5nvjo4elkv74ppvgx7",
    "scrolled": false
   },
   "outputs": [
    {
     "data": {
      "application/vnd.jupyter.widget-view+json": {
       "model_id": "a2265f6e7b8a4035a14a731e986dee7a",
       "version_major": 2,
       "version_minor": 0
      },
      "text/plain": [
       "  0%|          | 0/13 [00:00<?, ?it/s]"
      ]
     },
     "metadata": {},
     "output_type": "display_data"
    }
   ],
   "source": [
    "model.eval()\n",
    "\n",
    "predictions = []\n",
    "\n",
    "for batch in tqdm(test_dataloader):\n",
    "    b_input_ids = batch[0].to(device)\n",
    "    b_token_type_ids = batch[1].to(device)\n",
    "    b_input_mask = batch[2].to(device)\n",
    "  \n",
    "    # Telling the model not to compute or store gradients, saving memory and \n",
    "    # speeding up prediction\n",
    "    with torch.no_grad():\n",
    "        # Forward pass, calculate logit predictions\n",
    "        outputs = model(b_input_ids, token_type_ids=b_token_type_ids, \n",
    "                        attention_mask=b_input_mask)\n",
    "\n",
    "    logits = outputs[0]\n",
    "    logits = logits.detach().cpu().numpy()\n",
    "  \n",
    "    predictions.append(logits)"
   ]
  },
  {
   "cell_type": "code",
   "execution_count": 127,
   "id": "9db648bb",
   "metadata": {
    "ExecuteTime": {
     "end_time": "2022-12-11T19:37:37.837600Z",
     "start_time": "2022-12-11T19:37:37.813659Z"
    },
    "cellId": "h926zvdtmf4vzsxmhc8kk",
    "scrolled": true
   },
   "outputs": [],
   "source": [
    "probs = softmax(np.concatenate(predictions, axis=0), axis=1)[:, 1]\n",
    "test_frame[\"relevance_probability\"] = probs\n",
    "test_frame[[\"id\", \"relevance_probability\"]].to_csv(\"final_prediction.csv\", index=False)"
   ]
  }
 ],
 "metadata": {
  "kernelspec": {
   "display_name": "Python 3 (ipykernel)",
   "language": "python",
   "name": "python3"
  },
  "language_info": {
   "codemirror_mode": {
    "name": "ipython",
    "version": 3
   },
   "file_extension": ".py",
   "mimetype": "text/x-python",
   "name": "python",
   "nbconvert_exporter": "python",
   "pygments_lexer": "ipython3",
   "version": "3.9.15"
  },
  "notebookId": "1b2be560-e845-4ec2-a799-9bc0f7c78cb0",
  "notebookPath": "bert-v1.ipynb",
  "varInspector": {
   "cols": {
    "lenName": 16,
    "lenType": 16,
    "lenVar": 40
   },
   "kernels_config": {
    "python": {
     "delete_cmd_postfix": "",
     "delete_cmd_prefix": "del ",
     "library": "var_list.py",
     "varRefreshCmd": "print(var_dic_list())"
    },
    "r": {
     "delete_cmd_postfix": ") ",
     "delete_cmd_prefix": "rm(",
     "library": "var_list.r",
     "varRefreshCmd": "cat(var_dic_list()) "
    }
   },
   "types_to_exclude": [
    "module",
    "function",
    "builtin_function_or_method",
    "instance",
    "_Feature"
   ],
   "window_display": false
  }
 },
 "nbformat": 4,
 "nbformat_minor": 5
}
